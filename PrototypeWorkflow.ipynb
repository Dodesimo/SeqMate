{
 "cells": [
  {
   "cell_type": "markdown",
   "source": [
    "This is a mock Jupyter workflow of a RNA Seq process based on the following requirements:\n",
    "*Raw FASTA data \n",
    "*Run quality control with FASTQC \n",
    "*Use python cutadapt to cut out low quality regions and adapters \n",
    "*Use HISAT to align to genome/StringTIE to align genomes and transcriptomes → later \n",
    "*Visualize StringTIE reads using UC Santa Cruz viz tool \n",
    "*Convert to count tables \n",
    "*DESeq2 → R code that does differential expression \n",
    "*BAM files\n"
   ],
   "metadata": {
    "collapsed": false
   },
   "id": "bcdf38935423a5d"
  },
  {
   "cell_type": "raw",
   "source": [
    "First step: getting raw FASTA data"
   ],
   "metadata": {
    "collapsed": false
   },
   "id": "37091b2aa46b468e"
  },
  {
   "cell_type": "code",
   "execution_count": null,
   "outputs": [],
   "source": [],
   "metadata": {
    "collapsed": false
   },
   "id": "f901ad38c12a9af5"
  }
 ],
 "metadata": {
  "kernelspec": {
   "display_name": "Python 3",
   "language": "python",
   "name": "python3"
  },
  "language_info": {
   "codemirror_mode": {
    "name": "ipython",
    "version": 2
   },
   "file_extension": ".py",
   "mimetype": "text/x-python",
   "name": "python",
   "nbconvert_exporter": "python",
   "pygments_lexer": "ipython2",
   "version": "2.7.6"
  }
 },
 "nbformat": 4,
 "nbformat_minor": 5
}
